{
 "cells": [
  {
   "cell_type": "markdown",
   "metadata": {
    "id": "o47YfqoeJjL9"
   },
   "source": []
  },
  {
   "cell_type": "code",
   "execution_count": 1,
   "metadata": {
    "colab": {
     "base_uri": "https://localhost:8080/"
    },
    "executionInfo": {
     "elapsed": 9868,
     "status": "ok",
     "timestamp": 1727267251239,
     "user": {
      "displayName": "IVANA LUCIA KHARISMA",
      "userId": "00310291050108345428"
     },
     "user_tz": -420
    },
    "id": "Rc1p_wKqHoU5",
    "outputId": "818fbc70-413d-4b6e-99ab-bc31675ab255"
   },
   "outputs": [
    {
     "name": "stdout",
     "output_type": "stream",
     "text": [
      "Collecting opencv-python\n",
      "  Using cached opencv_python-4.10.0.84-cp37-abi3-win_amd64.whl.metadata (20 kB)\n",
      "Collecting numpy>=1.21.2 (from opencv-python)\n",
      "  Downloading numpy-2.1.2-cp311-cp311-win_amd64.whl.metadata (59 kB)\n",
      "Using cached opencv_python-4.10.0.84-cp37-abi3-win_amd64.whl (38.8 MB)\n",
      "Downloading numpy-2.1.2-cp311-cp311-win_amd64.whl (12.9 MB)\n",
      "   ---------------------------------------- 0.0/12.9 MB ? eta -:--:--\n",
      "   --- ------------------------------------ 1.0/12.9 MB 6.3 MB/s eta 0:00:02\n",
      "   ------ --------------------------------- 2.1/12.9 MB 5.9 MB/s eta 0:00:02\n",
      "   ---------- ----------------------------- 3.4/12.9 MB 5.8 MB/s eta 0:00:02\n",
      "   ------------ --------------------------- 3.9/12.9 MB 5.1 MB/s eta 0:00:02\n",
      "   ------------ --------------------------- 3.9/12.9 MB 5.1 MB/s eta 0:00:02\n",
      "   ------------- -------------------------- 4.2/12.9 MB 3.4 MB/s eta 0:00:03\n",
      "   -------------- ------------------------- 4.7/12.9 MB 3.3 MB/s eta 0:00:03\n",
      "   ----------------- ---------------------- 5.8/12.9 MB 3.7 MB/s eta 0:00:02\n",
      "   ------------------- -------------------- 6.3/12.9 MB 3.5 MB/s eta 0:00:02\n",
      "   --------------------- ------------------ 6.8/12.9 MB 3.5 MB/s eta 0:00:02\n",
      "   --------------------- ------------------ 6.8/12.9 MB 3.5 MB/s eta 0:00:02\n",
      "   --------------------- ------------------ 6.8/12.9 MB 3.5 MB/s eta 0:00:02\n",
      "   --------------------- ------------------ 6.8/12.9 MB 3.5 MB/s eta 0:00:02\n",
      "   ----------------------- ---------------- 7.6/12.9 MB 2.7 MB/s eta 0:00:02\n",
      "   ------------------------- -------------- 8.1/12.9 MB 2.7 MB/s eta 0:00:02\n",
      "   -------------------------- ------------- 8.4/12.9 MB 2.6 MB/s eta 0:00:02\n",
      "   -------------------------- ------------- 8.4/12.9 MB 2.6 MB/s eta 0:00:02\n",
      "   -------------------------- ------------- 8.4/12.9 MB 2.6 MB/s eta 0:00:02\n",
      "   -------------------------- ------------- 8.4/12.9 MB 2.6 MB/s eta 0:00:02\n",
      "   -------------------------- ------------- 8.4/12.9 MB 2.6 MB/s eta 0:00:02\n",
      "   -------------------------- ------------- 8.4/12.9 MB 2.6 MB/s eta 0:00:02\n",
      "   -------------------------- ------------- 8.4/12.9 MB 2.6 MB/s eta 0:00:02\n",
      "   -------------------------- ------------- 8.7/12.9 MB 1.8 MB/s eta 0:00:03\n",
      "   ---------------------------- ----------- 9.2/12.9 MB 1.9 MB/s eta 0:00:02\n",
      "   -------------------------------- ------- 10.5/12.9 MB 2.0 MB/s eta 0:00:02\n",
      "   ------------------------------------ --- 11.8/12.9 MB 2.2 MB/s eta 0:00:01\n",
      "   ---------------------------------------- 12.9/12.9 MB 2.3 MB/s eta 0:00:00\n",
      "Installing collected packages: numpy, opencv-python\n",
      "Successfully installed numpy-2.1.2 opencv-python-4.10.0.84\n"
     ]
    }
   ],
   "source": [
    "!pip install opencv-python"
   ]
  },
  {
   "cell_type": "code",
   "execution_count": 1,
   "metadata": {
    "executionInfo": {
     "elapsed": 1586,
     "status": "ok",
     "timestamp": 1727267305013,
     "user": {
      "displayName": "IVANA LUCIA KHARISMA",
      "userId": "00310291050108345428"
     },
     "user_tz": -420
    },
    "id": "ZnQu1HcMHoU_"
   },
   "outputs": [],
   "source": [
    "import cv2\n",
    "\n",
    "face_classifier = cv2.CascadeClassifier(\n",
    "    cv2.data.haarcascades + \"haarcascade_frontalface_default.xml\"\n",
    ")\n",
    "smile_classifier = cv2.CascadeClassifier(cv2.data.haarcascades + \"haarcascade_smile.xml\")\n",
    "eye_classifier = cv2.CascadeClassifier(cv2.data.haarcascades + \"haarcascade_eye.xml\")\n",
    "glasses_classifier = cv2.CascadeClassifier(cv2.data.haarcascades + \"haarcascade_eye_tree_eyeglasses.xml\")\n"
   ]
  },
  {
   "cell_type": "code",
   "execution_count": 2,
   "metadata": {
    "executionInfo": {
     "elapsed": 11,
     "status": "ok",
     "timestamp": 1727267309741,
     "user": {
      "displayName": "IVANA LUCIA KHARISMA",
      "userId": "00310291050108345428"
     },
     "user_tz": -420
    },
    "id": "dX_7AIdwHoVA"
   },
   "outputs": [],
   "source": [
    "video_capture = cv2.VideoCapture(0)"
   ]
  },
  {
   "cell_type": "code",
   "execution_count": 3,
   "metadata": {
    "executionInfo": {
     "elapsed": 693,
     "status": "ok",
     "timestamp": 1727267313375,
     "user": {
      "displayName": "IVANA LUCIA KHARISMA",
      "userId": "00310291050108345428"
     },
     "user_tz": -420
    },
    "id": "fzpeCsnhHoVB"
   },
   "outputs": [],
   "source": [
    "def detect_bounding_box(vid):\n",
    "    gray_image = cv2.cvtColor(vid, cv2.COLOR_BGR2GRAY)\n",
    "    faces = face_classifier.detectMultiScale(gray_image, 1.1, 5, minSize=(40, 40))\n",
    "\n",
    "    if len(faces) == 0:\n",
    "        return vid\n",
    "    \n",
    "    for (x, y, w, h) in faces:\n",
    "        cv2.rectangle(vid, (x, y), (x + w, y + h), (0, 255, 0), 2)\n",
    "\n",
    "    roi_gray = gray_image[y:y+h, x:x+w]\n",
    "    roi_color = vid[y:y+h, x:x+w]\n",
    "    \n",
    "    smiles = smile_classifier.detectMultiScale(roi_gray, 1.8, 20)\n",
    "    for(sx, sy, sw, sh) in smiles:\n",
    "        cv2.rectangle(roi_color, (sx, sy), (sx + sw, sy + sh), (255, 0, 0), 1)\n",
    "        cv2.putText(vid, 'Senyum', (x + sx, y + sy - 10), cv2.FONT_HERSHEY_SIMPLEX, 0.5, (255, 0, 0), 2)\n",
    "        \n",
    "    eyes = eye_classifier.detectMultiScale(roi_gray)\n",
    "    for(ex, ey, ew, eh) in eyes:\n",
    "        cv2.rectangle(roi_color, (ex, ey), (ex + ew, ey + eh), (0, 255, 255), 1)\n",
    "        cv2.putText(vid, 'Mata', (x + ex, y + ey - 10), cv2.FONT_HERSHEY_SIMPLEX, 0.5, (0, 255, 255), 2)\n",
    "        \n",
    "    glasses = glasses_classifier.detectMultiScale(roi_gray, 1.1, 5)\n",
    "    for(gx, gy, gw, gh) in glasses:\n",
    "        cv2.rectangle(roi_color, (gx, gy), (gx + gw, gy + gh), (0, 0, 255), 1)\n",
    "        cv2.putText(vid, 'Kacamata', (x + gx, y + gy - 10), cv2.FONT_HERSHEY_SIMPLEX, 0.5, (0, 0, 255), 2)\n",
    "    \n",
    "    return vid"
   ]
  },
  {
   "cell_type": "code",
   "execution_count": null,
   "metadata": {
    "executionInfo": {
     "elapsed": 540,
     "status": "ok",
     "timestamp": 1727267319956,
     "user": {
      "displayName": "IVANA LUCIA KHARISMA",
      "userId": "00310291050108345428"
     },
     "user_tz": -420
    },
    "id": "YhzCIQgTHoVB"
   },
   "outputs": [],
   "source": [
    "while True:\n",
    "\n",
    "    result, video_frame = video_capture.read()  # read frames from the video\n",
    "    if result is False:\n",
    "        break  # terminate the loop if the frame is not read successfully\n",
    "\n",
    "    video_frame = detect_bounding_box(\n",
    "        video_frame\n",
    "    )  # apply the function we created to the video frame\n",
    "\n",
    "    cv2.imshow(\n",
    "        \"Peningkatan dari Face Detection\", video_frame\n",
    "    )  # display the processed frame in a window named \"My Face Detection Project\"\n",
    "\n",
    "    if cv2.waitKey(1) & 0xFF == ord(\"q\"):\n",
    "        break\n",
    "\n",
    "video_capture.release()\n",
    "cv2.destroyAllWindows()"
   ]
  },
  {
   "cell_type": "code",
   "execution_count": null,
   "metadata": {},
   "outputs": [],
   "source": []
  }
 ],
 "metadata": {
  "colab": {
   "provenance": []
  },
  "kernelspec": {
   "display_name": "Python 3 (ipykernel)",
   "language": "python",
   "name": "python3"
  },
  "language_info": {
   "codemirror_mode": {
    "name": "ipython",
    "version": 3
   },
   "file_extension": ".py",
   "mimetype": "text/x-python",
   "name": "python",
   "nbconvert_exporter": "python",
   "pygments_lexer": "ipython3",
   "version": "3.11.5"
  }
 },
 "nbformat": 4,
 "nbformat_minor": 4
}
